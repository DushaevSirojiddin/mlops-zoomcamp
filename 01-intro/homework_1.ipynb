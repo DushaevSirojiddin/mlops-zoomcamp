{
 "cells": [
  {
   "cell_type": "code",
   "execution_count": 34,
   "metadata": {
    "ExecuteTime": {
     "end_time": "2024-05-14T21:29:02.913596Z",
     "start_time": "2024-05-14T21:29:02.910891Z"
    }
   },
   "outputs": [],
   "source": [
    "import pandas as pd\n",
    "import numpy as np\n",
    "import matplotlib.pyplot as plt\n",
    "from sklearn.metrics import mean_squared_error \n",
    "from sklearn.metrics import root_mean_squared_error\n",
    "from sklearn.linear_model import LinearRegression\n",
    "import seaborn as sns\n",
    "from sklearn.feature_extraction import DictVectorizer"
   ]
  },
  {
   "cell_type": "code",
   "execution_count": 4,
   "metadata": {
    "ExecuteTime": {
     "end_time": "2024-05-14T21:25:02.392236Z",
     "start_time": "2024-05-14T21:25:01.424646Z"
    }
   },
   "outputs": [
    {
     "data": {
      "text/plain": "(3066766, 19)"
     },
     "execution_count": 4,
     "metadata": {},
     "output_type": "execute_result"
    }
   ],
   "source": [
    "df = pd.read_parquet('yellow_tripdata_2023-01.parquet')\n",
    "len(df), len(df.columns)"
   ]
  },
  {
   "cell_type": "code",
   "execution_count": 5,
   "metadata": {
    "ExecuteTime": {
     "end_time": "2024-05-14T21:25:06.975433Z",
     "start_time": "2024-05-14T21:25:06.958886Z"
    }
   },
   "outputs": [
    {
     "data": {
      "text/plain": "   VendorID tpep_pickup_datetime tpep_dropoff_datetime  passenger_count  \\\n0         2  2023-01-01 00:32:10   2023-01-01 00:40:36              1.0   \n1         2  2023-01-01 00:55:08   2023-01-01 01:01:27              1.0   \n2         2  2023-01-01 00:25:04   2023-01-01 00:37:49              1.0   \n3         1  2023-01-01 00:03:48   2023-01-01 00:13:25              0.0   \n4         2  2023-01-01 00:10:29   2023-01-01 00:21:19              1.0   \n\n   trip_distance  RatecodeID store_and_fwd_flag  PULocationID  DOLocationID  \\\n0           0.97         1.0                  N           161           141   \n1           1.10         1.0                  N            43           237   \n2           2.51         1.0                  N            48           238   \n3           1.90         1.0                  N           138             7   \n4           1.43         1.0                  N           107            79   \n\n   payment_type  fare_amount  extra  mta_tax  tip_amount  tolls_amount  \\\n0             2          9.3   1.00      0.5        0.00           0.0   \n1             1          7.9   1.00      0.5        4.00           0.0   \n2             1         14.9   1.00      0.5       15.00           0.0   \n3             1         12.1   7.25      0.5        0.00           0.0   \n4             1         11.4   1.00      0.5        3.28           0.0   \n\n   improvement_surcharge  total_amount  congestion_surcharge  airport_fee  \n0                    1.0         14.30                   2.5         0.00  \n1                    1.0         16.90                   2.5         0.00  \n2                    1.0         34.90                   2.5         0.00  \n3                    1.0         20.85                   0.0         1.25  \n4                    1.0         19.68                   2.5         0.00  ",
      "text/html": "<div>\n<style scoped>\n    .dataframe tbody tr th:only-of-type {\n        vertical-align: middle;\n    }\n\n    .dataframe tbody tr th {\n        vertical-align: top;\n    }\n\n    .dataframe thead th {\n        text-align: right;\n    }\n</style>\n<table border=\"1\" class=\"dataframe\">\n  <thead>\n    <tr style=\"text-align: right;\">\n      <th></th>\n      <th>VendorID</th>\n      <th>tpep_pickup_datetime</th>\n      <th>tpep_dropoff_datetime</th>\n      <th>passenger_count</th>\n      <th>trip_distance</th>\n      <th>RatecodeID</th>\n      <th>store_and_fwd_flag</th>\n      <th>PULocationID</th>\n      <th>DOLocationID</th>\n      <th>payment_type</th>\n      <th>fare_amount</th>\n      <th>extra</th>\n      <th>mta_tax</th>\n      <th>tip_amount</th>\n      <th>tolls_amount</th>\n      <th>improvement_surcharge</th>\n      <th>total_amount</th>\n      <th>congestion_surcharge</th>\n      <th>airport_fee</th>\n    </tr>\n  </thead>\n  <tbody>\n    <tr>\n      <th>0</th>\n      <td>2</td>\n      <td>2023-01-01 00:32:10</td>\n      <td>2023-01-01 00:40:36</td>\n      <td>1.0</td>\n      <td>0.97</td>\n      <td>1.0</td>\n      <td>N</td>\n      <td>161</td>\n      <td>141</td>\n      <td>2</td>\n      <td>9.3</td>\n      <td>1.00</td>\n      <td>0.5</td>\n      <td>0.00</td>\n      <td>0.0</td>\n      <td>1.0</td>\n      <td>14.30</td>\n      <td>2.5</td>\n      <td>0.00</td>\n    </tr>\n    <tr>\n      <th>1</th>\n      <td>2</td>\n      <td>2023-01-01 00:55:08</td>\n      <td>2023-01-01 01:01:27</td>\n      <td>1.0</td>\n      <td>1.10</td>\n      <td>1.0</td>\n      <td>N</td>\n      <td>43</td>\n      <td>237</td>\n      <td>1</td>\n      <td>7.9</td>\n      <td>1.00</td>\n      <td>0.5</td>\n      <td>4.00</td>\n      <td>0.0</td>\n      <td>1.0</td>\n      <td>16.90</td>\n      <td>2.5</td>\n      <td>0.00</td>\n    </tr>\n    <tr>\n      <th>2</th>\n      <td>2</td>\n      <td>2023-01-01 00:25:04</td>\n      <td>2023-01-01 00:37:49</td>\n      <td>1.0</td>\n      <td>2.51</td>\n      <td>1.0</td>\n      <td>N</td>\n      <td>48</td>\n      <td>238</td>\n      <td>1</td>\n      <td>14.9</td>\n      <td>1.00</td>\n      <td>0.5</td>\n      <td>15.00</td>\n      <td>0.0</td>\n      <td>1.0</td>\n      <td>34.90</td>\n      <td>2.5</td>\n      <td>0.00</td>\n    </tr>\n    <tr>\n      <th>3</th>\n      <td>1</td>\n      <td>2023-01-01 00:03:48</td>\n      <td>2023-01-01 00:13:25</td>\n      <td>0.0</td>\n      <td>1.90</td>\n      <td>1.0</td>\n      <td>N</td>\n      <td>138</td>\n      <td>7</td>\n      <td>1</td>\n      <td>12.1</td>\n      <td>7.25</td>\n      <td>0.5</td>\n      <td>0.00</td>\n      <td>0.0</td>\n      <td>1.0</td>\n      <td>20.85</td>\n      <td>0.0</td>\n      <td>1.25</td>\n    </tr>\n    <tr>\n      <th>4</th>\n      <td>2</td>\n      <td>2023-01-01 00:10:29</td>\n      <td>2023-01-01 00:21:19</td>\n      <td>1.0</td>\n      <td>1.43</td>\n      <td>1.0</td>\n      <td>N</td>\n      <td>107</td>\n      <td>79</td>\n      <td>1</td>\n      <td>11.4</td>\n      <td>1.00</td>\n      <td>0.5</td>\n      <td>3.28</td>\n      <td>0.0</td>\n      <td>1.0</td>\n      <td>19.68</td>\n      <td>2.5</td>\n      <td>0.00</td>\n    </tr>\n  </tbody>\n</table>\n</div>"
     },
     "execution_count": 5,
     "metadata": {},
     "output_type": "execute_result"
    }
   ],
   "source": [
    "df.head()"
   ]
  },
  {
   "cell_type": "code",
   "execution_count": 6,
   "metadata": {
    "ExecuteTime": {
     "end_time": "2024-05-14T21:25:09.047683Z",
     "start_time": "2024-05-14T21:25:08.988759Z"
    }
   },
   "outputs": [],
   "source": [
    "df[\"duration\"] = df[\"tpep_dropoff_datetime\"] - df[\"tpep_pickup_datetime\"]"
   ]
  },
  {
   "cell_type": "code",
   "execution_count": 7,
   "metadata": {
    "ExecuteTime": {
     "end_time": "2024-05-14T21:25:14.037179Z",
     "start_time": "2024-05-14T21:25:10.401482Z"
    }
   },
   "outputs": [],
   "source": [
    "df[\"duration\"] = df.duration.apply(lambda td: td.total_seconds()/60)"
   ]
  },
  {
   "cell_type": "code",
   "execution_count": 8,
   "metadata": {
    "ExecuteTime": {
     "end_time": "2024-05-14T21:25:14.954156Z",
     "start_time": "2024-05-14T21:25:14.935879Z"
    }
   },
   "outputs": [
    {
     "data": {
      "text/plain": "42.59434429744777"
     },
     "execution_count": 8,
     "metadata": {},
     "output_type": "execute_result"
    }
   ],
   "source": [
    "np.std(df.duration)"
   ]
  },
  {
   "cell_type": "code",
   "execution_count": 9,
   "metadata": {
    "ExecuteTime": {
     "end_time": "2024-05-14T21:25:16.155849Z",
     "start_time": "2024-05-14T21:25:15.979902Z"
    }
   },
   "outputs": [
    {
     "data": {
      "text/plain": "0.9812202822125979"
     },
     "execution_count": 9,
     "metadata": {},
     "output_type": "execute_result"
    }
   ],
   "source": [
    "df_filtered = df[(df['duration'] >= 1) & (df['duration'] <= 60)]\n",
    "len(df_filtered)/len(df)"
   ]
  },
  {
   "cell_type": "code",
   "execution_count": 10,
   "metadata": {
    "ExecuteTime": {
     "end_time": "2024-05-14T21:25:17.593706Z",
     "start_time": "2024-05-14T21:25:16.960678Z"
    }
   },
   "outputs": [
    {
     "name": "stderr",
     "output_type": "stream",
     "text": [
      "/var/folders/8m/gg0q2gwj041ckhg91f19ptkh0000gn/T/ipykernel_94785/291760863.py:2: SettingWithCopyWarning: \n",
      "A value is trying to be set on a copy of a slice from a DataFrame.\n",
      "Try using .loc[row_indexer,col_indexer] = value instead\n",
      "\n",
      "See the caveats in the documentation: https://pandas.pydata.org/pandas-docs/stable/user_guide/indexing.html#returning-a-view-versus-a-copy\n",
      "  df_filtered[cat_features] = df_filtered[cat_features].astype(str)\n"
     ]
    }
   ],
   "source": [
    "cat_features = [\"PULocationID\", \"DOLocationID\"]\n",
    "df_filtered[cat_features] = df_filtered[cat_features].astype(str)\n",
    "dv = DictVectorizer()"
   ]
  },
  {
   "cell_type": "code",
   "execution_count": 11,
   "metadata": {
    "ExecuteTime": {
     "end_time": "2024-05-14T21:25:33.923462Z",
     "start_time": "2024-05-14T21:25:31.681586Z"
    }
   },
   "outputs": [],
   "source": [
    "train_dict = df_filtered[cat_features].to_dict(orient=\"records\")"
   ]
  },
  {
   "cell_type": "code",
   "execution_count": 12,
   "metadata": {
    "ExecuteTime": {
     "end_time": "2024-05-14T21:25:36.675357Z",
     "start_time": "2024-05-14T21:25:34.702576Z"
    }
   },
   "outputs": [],
   "source": [
    "X_train = dv.fit_transform(train_dict)"
   ]
  },
  {
   "cell_type": "code",
   "execution_count": 13,
   "metadata": {
    "ExecuteTime": {
     "end_time": "2024-05-14T21:25:37.250784Z",
     "start_time": "2024-05-14T21:25:37.246882Z"
    }
   },
   "outputs": [
    {
     "data": {
      "text/plain": "515"
     },
     "execution_count": 13,
     "metadata": {},
     "output_type": "execute_result"
    }
   ],
   "source": [
    "X_train.shape[1]"
   ]
  },
  {
   "cell_type": "code",
   "execution_count": 14,
   "metadata": {
    "ExecuteTime": {
     "end_time": "2024-05-14T21:25:38.501697Z",
     "start_time": "2024-05-14T21:25:38.498451Z"
    }
   },
   "outputs": [],
   "source": [
    "y_train = df_filtered.duration.values"
   ]
  },
  {
   "cell_type": "code",
   "execution_count": 15,
   "metadata": {
    "ExecuteTime": {
     "end_time": "2024-05-14T21:25:51.245604Z",
     "start_time": "2024-05-14T21:25:39.303969Z"
    }
   },
   "outputs": [],
   "source": [
    "model = LinearRegression()\n",
    "model.fit(X_train, y_train)\n",
    "predictions = model.predict(X_train)"
   ]
  },
  {
   "cell_type": "code",
   "execution_count": 16,
   "metadata": {
    "ExecuteTime": {
     "end_time": "2024-05-14T21:25:54.084711Z",
     "start_time": "2024-05-14T21:25:51.246517Z"
    }
   },
   "outputs": [
    {
     "data": {
      "text/plain": "<matplotlib.legend.Legend at 0x317300850>"
     },
     "execution_count": 16,
     "metadata": {},
     "output_type": "execute_result"
    },
    {
     "data": {
      "text/plain": "<Figure size 500x500 with 1 Axes>",
      "image/png": "[encoded data removed]"
     },
     "metadata": {},
     "output_type": "display_data"
    },
    {
     "data": {
      "text/plain": "<Figure size 500x500 with 1 Axes>",
      "image/png": "[encoded data removed]"
     },
     "metadata": {},
     "output_type": "display_data"
    }
   ],
   "source": [
    "sns.displot(predictions, label=\"prediction\")\n",
    "sns.displot(y_train, label=\"actual\")\n",
    "plt.legend()"
   ]
  },
  {
   "cell_type": "code",
   "execution_count": 17,
   "metadata": {
    "ExecuteTime": {
     "end_time": "2024-05-14T21:25:54.087145Z",
     "start_time": "2024-05-14T21:25:54.084005Z"
    }
   },
   "outputs": [
    {
     "data": {
      "text/plain": "array([11.52725252, 10.89771098, 11.32563992, 27.91577715, 11.70331467,\n       11.15612311, 11.31031425, 23.39863081, 10.97938888,  9.37247834])"
     },
     "execution_count": 17,
     "metadata": {},
     "output_type": "execute_result"
    }
   ],
   "source": [
    "predictions[:10]"
   ]
  },
  {
   "cell_type": "code",
   "execution_count": 18,
   "metadata": {
    "ExecuteTime": {
     "end_time": "2024-05-14T21:25:54.091029Z",
     "start_time": "2024-05-14T21:25:54.087405Z"
    }
   },
   "outputs": [
    {
     "data": {
      "text/plain": "(numpy.float64, numpy.float64)"
     },
     "execution_count": 18,
     "metadata": {},
     "output_type": "execute_result"
    }
   ],
   "source": [
    "type(predictions[0]), type(y_train[0])"
   ]
  },
  {
   "cell_type": "code",
   "execution_count": 19,
   "metadata": {
    "ExecuteTime": {
     "end_time": "2024-05-14T21:25:54.092100Z",
     "start_time": "2024-05-14T21:25:54.089724Z"
    }
   },
   "outputs": [
    {
     "data": {
      "text/plain": "array([ 8.43333333,  6.31666667, 12.75      ,  9.61666667, 10.83333333,\n       12.3       , 10.45      , 22.73333333, 14.93333333, 10.9       ])"
     },
     "execution_count": 19,
     "metadata": {},
     "output_type": "execute_result"
    }
   ],
   "source": [
    "y_train[:10]"
   ]
  },
  {
   "cell_type": "code",
   "execution_count": 20,
   "metadata": {
    "ExecuteTime": {
     "end_time": "2024-05-14T21:25:54.148596Z",
     "start_time": "2024-05-14T21:25:54.092013Z"
    }
   },
   "outputs": [
    {
     "name": "stderr",
     "output_type": "stream",
     "text": [
      "/Users/dushaevsirojiddin/anaconda3/envs/mlops/lib/python3.11/site-packages/sklearn/metrics/_regression.py:483: FutureWarning: 'squared' is deprecated in version 1.4 and will be removed in 1.6. To calculate the root mean squared error, use the function'root_mean_squared_error'.\n",
      "  warnings.warn(\n"
     ]
    },
    {
     "data": {
      "text/plain": "7.649261927686161"
     },
     "execution_count": 20,
     "metadata": {},
     "output_type": "execute_result"
    }
   ],
   "source": [
    "error = mean_squared_error(y_train, predictions, squared=False)\n",
    "error"
   ]
  },
  {
   "cell_type": "code",
   "execution_count": 21,
   "metadata": {
    "ExecuteTime": {
     "end_time": "2024-05-14T21:25:54.554133Z",
     "start_time": "2024-05-14T21:25:54.106430Z"
    }
   },
   "outputs": [
    {
     "data": {
      "text/plain": "   VendorID tpep_pickup_datetime tpep_dropoff_datetime  passenger_count  \\\n0       1.0  2023-02-01 00:32:53   2023-02-01 00:34:34              2.0   \n1       2.0  2023-02-01 00:35:16   2023-02-01 00:35:30              1.0   \n2       2.0  2023-02-01 00:35:16   2023-02-01 00:35:30              1.0   \n3       1.0  2023-02-01 00:29:33   2023-02-01 01:01:38              0.0   \n4       2.0  2023-02-01 00:12:28   2023-02-01 00:25:46              1.0   \n\n   trip_distance  RatecodeID store_and_fwd_flag  PULocationID  DOLocationID  \\\n0           0.30         1.0                  N         142.0         163.0   \n1           0.00         1.0                  N          71.0          71.0   \n2           0.00         1.0                  N          71.0          71.0   \n3          18.80         1.0                  N         132.0          26.0   \n4           3.22         1.0                  N         161.0         145.0   \n\n   payment_type  fare_amount  extra  mta_tax  tip_amount  tolls_amount  \\\n0           2.0          4.4   3.50      0.5         0.0           0.0   \n1           4.0         -3.0  -1.00     -0.5         0.0           0.0   \n2           4.0          3.0   1.00      0.5         0.0           0.0   \n3           1.0         70.9   2.25      0.5         0.0           0.0   \n4           1.0         17.0   1.00      0.5         3.3           0.0   \n\n   improvement_surcharge  total_amount  congestion_surcharge  Airport_fee  \n0                    1.0          9.40                   2.5         0.00  \n1                   -1.0         -5.50                   0.0         0.00  \n2                    1.0          5.50                   0.0         0.00  \n3                    1.0         74.65                   0.0         1.25  \n4                    1.0         25.30                   2.5         0.00  ",
      "text/html": "<div>\n<style scoped>\n    .dataframe tbody tr th:only-of-type {\n        vertical-align: middle;\n    }\n\n    .dataframe tbody tr th {\n        vertical-align: top;\n    }\n\n    .dataframe thead th {\n        text-align: right;\n    }\n</style>\n<table border=\"1\" class=\"dataframe\">\n  <thead>\n    <tr style=\"text-align: right;\">\n      <th></th>\n      <th>VendorID</th>\n      <th>tpep_pickup_datetime</th>\n      <th>tpep_dropoff_datetime</th>\n      <th>passenger_count</th>\n      <th>trip_distance</th>\n      <th>RatecodeID</th>\n      <th>store_and_fwd_flag</th>\n      <th>PULocationID</th>\n      <th>DOLocationID</th>\n      <th>payment_type</th>\n      <th>fare_amount</th>\n      <th>extra</th>\n      <th>mta_tax</th>\n      <th>tip_amount</th>\n      <th>tolls_amount</th>\n      <th>improvement_surcharge</th>\n      <th>total_amount</th>\n      <th>congestion_surcharge</th>\n      <th>Airport_fee</th>\n    </tr>\n  </thead>\n  <tbody>\n    <tr>\n      <th>0</th>\n      <td>1.0</td>\n      <td>2023-02-01 00:32:53</td>\n      <td>2023-02-01 00:34:34</td>\n      <td>2.0</td>\n      <td>0.30</td>\n      <td>1.0</td>\n      <td>N</td>\n      <td>142.0</td>\n      <td>163.0</td>\n      <td>2.0</td>\n      <td>4.4</td>\n      <td>3.50</td>\n      <td>0.5</td>\n      <td>0.0</td>\n      <td>0.0</td>\n      <td>1.0</td>\n      <td>9.40</td>\n      <td>2.5</td>\n      <td>0.00</td>\n    </tr>\n    <tr>\n      <th>1</th>\n      <td>2.0</td>\n      <td>2023-02-01 00:35:16</td>\n      <td>2023-02-01 00:35:30</td>\n      <td>1.0</td>\n      <td>0.00</td>\n      <td>1.0</td>\n      <td>N</td>\n      <td>71.0</td>\n      <td>71.0</td>\n      <td>4.0</td>\n      <td>-3.0</td>\n      <td>-1.00</td>\n      <td>-0.5</td>\n      <td>0.0</td>\n      <td>0.0</td>\n      <td>-1.0</td>\n      <td>-5.50</td>\n      <td>0.0</td>\n      <td>0.00</td>\n    </tr>\n    <tr>\n      <th>2</th>\n      <td>2.0</td>\n      <td>2023-02-01 00:35:16</td>\n      <td>2023-02-01 00:35:30</td>\n      <td>1.0</td>\n      <td>0.00</td>\n      <td>1.0</td>\n      <td>N</td>\n      <td>71.0</td>\n      <td>71.0</td>\n      <td>4.0</td>\n      <td>3.0</td>\n      <td>1.00</td>\n      <td>0.5</td>\n      <td>0.0</td>\n      <td>0.0</td>\n      <td>1.0</td>\n      <td>5.50</td>\n      <td>0.0</td>\n      <td>0.00</td>\n    </tr>\n    <tr>\n      <th>3</th>\n      <td>1.0</td>\n      <td>2023-02-01 00:29:33</td>\n      <td>2023-02-01 01:01:38</td>\n      <td>0.0</td>\n      <td>18.80</td>\n      <td>1.0</td>\n      <td>N</td>\n      <td>132.0</td>\n      <td>26.0</td>\n      <td>1.0</td>\n      <td>70.9</td>\n      <td>2.25</td>\n      <td>0.5</td>\n      <td>0.0</td>\n      <td>0.0</td>\n      <td>1.0</td>\n      <td>74.65</td>\n      <td>0.0</td>\n      <td>1.25</td>\n    </tr>\n    <tr>\n      <th>4</th>\n      <td>2.0</td>\n      <td>2023-02-01 00:12:28</td>\n      <td>2023-02-01 00:25:46</td>\n      <td>1.0</td>\n      <td>3.22</td>\n      <td>1.0</td>\n      <td>N</td>\n      <td>161.0</td>\n      <td>145.0</td>\n      <td>1.0</td>\n      <td>17.0</td>\n      <td>1.00</td>\n      <td>0.5</td>\n      <td>3.3</td>\n      <td>0.0</td>\n      <td>1.0</td>\n      <td>25.30</td>\n      <td>2.5</td>\n      <td>0.00</td>\n    </tr>\n  </tbody>\n</table>\n</div>"
     },
     "execution_count": 21,
     "metadata": {},
     "output_type": "execute_result"
    }
   ],
   "source": [
    "df_test = pd.read_parquet(\"yellow_tripdata_2023-02.parquet\")\n",
    "df_test.head()"
   ]
  },
  {
   "cell_type": "code",
   "execution_count": 22,
   "metadata": {
    "ExecuteTime": {
     "end_time": "2024-05-14T21:25:58.205872Z",
     "start_time": "2024-05-14T21:25:54.553954Z"
    }
   },
   "outputs": [],
   "source": [
    "df_test[\"duration\"] = df_test[\"tpep_dropoff_datetime\"] - df_test[\"tpep_pickup_datetime\"]\n",
    "df_test[\"duration\"] = df_test.duration.apply(lambda td: td.total_seconds()/60)"
   ]
  },
  {
   "cell_type": "code",
   "execution_count": 23,
   "metadata": {
    "ExecuteTime": {
     "end_time": "2024-05-14T21:25:58.389357Z",
     "start_time": "2024-05-14T21:25:58.206250Z"
    }
   },
   "outputs": [
    {
     "data": {
      "text/plain": "0.9800944077722545"
     },
     "execution_count": 23,
     "metadata": {},
     "output_type": "execute_result"
    }
   ],
   "source": [
    "df_test_filtered = df_test[(df_test['duration'] >= 1) & (df_test['duration'] <= 60)]\n",
    "len(df_test_filtered)/len(df_test)"
   ]
  },
  {
   "cell_type": "code",
   "execution_count": 24,
   "metadata": {
    "ExecuteTime": {
     "end_time": "2024-05-14T21:25:58.390953Z",
     "start_time": "2024-05-14T21:25:58.388436Z"
    }
   },
   "outputs": [],
   "source": [
    "y_test = df_test_filtered.duration.values"
   ]
  },
  {
   "cell_type": "code",
   "execution_count": 25,
   "metadata": {
    "ExecuteTime": {
     "end_time": "2024-05-14T21:25:59.438493Z",
     "start_time": "2024-05-14T21:25:58.390974Z"
    }
   },
   "outputs": [],
   "source": [
    "X_test = df_test_filtered[[\"PULocationID\", \"DOLocationID\"]].astype(str)"
   ]
  },
  {
   "cell_type": "code",
   "execution_count": 26,
   "metadata": {
    "ExecuteTime": {
     "end_time": "2024-05-14T21:26:01.619677Z",
     "start_time": "2024-05-14T21:25:59.493558Z"
    }
   },
   "outputs": [],
   "source": [
    "test_dict = X_test.to_dict(orient=\"records\")"
   ]
  },
  {
   "cell_type": "code",
   "execution_count": 27,
   "metadata": {
    "ExecuteTime": {
     "end_time": "2024-05-14T21:26:02.725685Z",
     "start_time": "2024-05-14T21:26:01.624089Z"
    }
   },
   "outputs": [],
   "source": [
    "X_test = dv.transform(test_dict)"
   ]
  },
  {
   "cell_type": "code",
   "execution_count": 28,
   "metadata": {
    "ExecuteTime": {
     "end_time": "2024-05-14T21:26:02.733627Z",
     "start_time": "2024-05-14T21:26:02.725834Z"
    }
   },
   "outputs": [
    {
     "data": {
      "text/plain": "(2855951, 2855951)"
     },
     "execution_count": 28,
     "metadata": {},
     "output_type": "execute_result"
    }
   ],
   "source": [
    "test_pred = model.predict(X_test)\n",
    "len(test_pred), len(y_test)"
   ]
  },
  {
   "cell_type": "code",
   "execution_count": 29,
   "metadata": {
    "ExecuteTime": {
     "end_time": "2024-05-14T21:26:02.734347Z",
     "start_time": "2024-05-14T21:26:02.732020Z"
    }
   },
   "outputs": [
    {
     "data": {
      "text/plain": "(515, 2855951)"
     },
     "execution_count": 29,
     "metadata": {},
     "output_type": "execute_result"
    }
   ],
   "source": [
    "X_test.shape[1], X_test.shape[0]"
   ]
  },
  {
   "cell_type": "code",
   "execution_count": 36,
   "metadata": {
    "ExecuteTime": {
     "end_time": "2024-05-14T21:39:03.989473Z",
     "start_time": "2024-05-14T21:39:03.980790Z"
    }
   },
   "outputs": [
    {
     "name": "stdout",
     "output_type": "stream",
     "text": [
      "7.811818654341152\n"
     ]
    }
   ],
   "source": [
    "root_mean_squared_error(y_test, test_pred)"
   ]
  },
  {
   "cell_type": "code",
   "execution_count": null,
   "outputs": [],
   "source": [],
   "metadata": {
    "collapsed": false
   }
  }
 ],
 "metadata": {
  "kernelspec": {
   "display_name": "Python 3",
   "language": "python",
   "name": "python3"
  },
  "language_info": {
   "codemirror_mode": {
    "name": "ipython",
    "version": 3
   },
   "file_extension": ".py",
   "mimetype": "text/x-python",
   "name": "python",
   "nbconvert_exporter": "python",
   "pygments_lexer": "ipython3",
   "version": "3.11.9"
  }
 },
 "nbformat": 4,
 "nbformat_minor": 2
}
